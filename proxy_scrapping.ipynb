{
 "cells": [
  {
   "cell_type": "code",
   "execution_count": 1,
   "metadata": {},
   "outputs": [],
   "source": [
    "import pandas as pd\n",
    "import numpy as np\n",
    "import requests\n",
    "from bs4 import  BeautifulSoup"
   ]
  },
  {
   "cell_type": "code",
   "execution_count": 2,
   "metadata": {},
   "outputs": [
    {
     "name": "stdout",
     "output_type": "stream",
     "text": [
      "agent switched to :- {'user-agent': 'Chrome/83.0.4103.97'}\n",
      "it' worked\n",
      "<class 'requests.models.Response'>\n",
      "<Response [200]>\n",
      "<class 'str'>\n"
     ]
    }
   ],
   "source": [
    "url = \"https://www.amazon.in/s?k=mobile&page=4&crid=2H0873SIDZUIO&qid=1644916775&sprefix=mobile%2Caps%2C428&ref=sr_pg_4\"\n",
    "headers =[\n",
    "    {\n",
    "'user-agent': 'Chrome/83.0.4103.97'\n",
    "}\n",
    "    ,\n",
    "{\n",
    "'user-agent': 'Safari/537.36'\n",
    "}\n",
    "    ,\n",
    "{\n",
    "'user-agent': 'Mozilla/5.0'\n",
    "}\n",
    "]\n",
    "\n",
    "\n",
    "prod_name = []\n",
    "prod_price = []\n",
    "\n",
    "\n",
    "\n",
    "\n",
    "def requesting():\n",
    "    \n",
    " \n",
    "    x = np.random.randint(0,3)\n",
    "    req = requests.get(url,headers=headers[x])\n",
    "    print(\"agent switched to :-\", headers[x])\n",
    "    mb = req.text[21:24]\n",
    "    \n",
    "    \n",
    "   \n",
    "\n",
    "    if mb == '503':\n",
    "        print('chainging agent proxy ---------- ')\n",
    "        requesting()\n",
    "        \n",
    "        \n",
    "\n",
    "\n",
    "    else:\n",
    "        print(\"it' worked\")\n",
    "\n",
    "        soup = BeautifulSoup(req.text,'html.parser')\n",
    "        print(type(req))\n",
    "        print(req)\n",
    "        \n",
    "        print(type(mb))\n",
    "\n",
    "\n",
    "\n",
    "        name = soup.find_all('span',class_='a-size-medium a-color-base a-text-normal')\n",
    "        for i in name:\n",
    "            prod_name.append(i.contents[0])\n",
    "        price = soup.find_all('span',class_='a-price-whole')\n",
    "        for i in price:\n",
    "            prod_price.append(i.contents[0])\n",
    "\n",
    "          \n",
    "requesting()\n"
   ]
  },
  {
   "cell_type": "code",
   "execution_count": 22,
   "metadata": {
    "scrolled": false
   },
   "outputs": [
    {
     "data": {
      "text/plain": [
       "['I KALL Z8 4G Smartphone (3GB, 16GB) (Grey)',\n",
       " 'Samsung Galaxy M32 (Light Blue, 6GB RAM, 128GB Storage) 6 Months Free Screen Replacement for Prime',\n",
       " 'Samsung Galaxy M32 5G (Slate Black, 8GB RAM, 128GB Storage)',\n",
       " 'Lava A1 2021(Blue Silver)',\n",
       " 'Redmi 9A Sport (Carbon Black, 3GB RAM, 32GB Storage) | 2GHz Octa-core Helio G25 Processor | 5000 mAh Battery',\n",
       " 'Tecno Spark 8 Pro (Turquoise Cyan, 7GB Expandable RAM 64GB Storage) 33W Fast Charger | Helio G85 Gaming Processor | 6.8\" FHD+Dot-in Display | 48MP Triple Camera',\n",
       " 'Jio Phone Next 32 GB, 2 GB RAM, Blue Smartphone',\n",
       " 'Samsung Galaxy A22 5G (Mint, 6GB RAM, 128GB Storage) with No Cost EMI/Additional Exchange Offers',\n",
       " 'Tecno Spark Go 2022 (Turquoise Cyan, 2/32GB) | 5000mAh Battery| 6.52\" HD+ Display | 13MP Dual Rear Camera| Front Flash| Stylish Design',\n",
       " 'OnePlus 9R 5G (Carbon Black, 12GB RAM, 256 GB Storage)',\n",
       " 'Samsung Galaxy M32 (Black, 6GB RAM, 128GB Storage) 6 Months Free Screen Replacement for Prime',\n",
       " 'Redmi 9 Activ (Carbon Black, 6GB RAM, 128GB Storage)',\n",
       " 'I KALL Z7 Smartphone (4GB, 32GB) (Blue)',\n",
       " 'I KALL Z1 Smartphone (4GB, 32GB) (Blue)',\n",
       " 'Redmi 10 Prime (Bifrost Blue 4GB RAM 64GB ROM |Helio G88 with extendable RAM Upto 2GB |FHD+ 90Hz Adaptive Sync Display)',\n",
       " 'Redmi Note 10T 5G (Metallic Blue, 6GB RAM, 128GB Storage) | Dual 5G | 90Hz Adaptive Refresh Rate | MediaTek Dimensity 700 7nm Processor']"
      ]
     },
     "execution_count": 22,
     "metadata": {},
     "output_type": "execute_result"
    }
   ],
   "source": [
    "prod_name"
   ]
  },
  {
   "cell_type": "code",
   "execution_count": 29,
   "metadata": {},
   "outputs": [
    {
     "data": {
      "text/plain": [
       "16"
      ]
     },
     "execution_count": 29,
     "metadata": {},
     "output_type": "execute_result"
    }
   ],
   "source": [
    "len(prod_name)"
   ]
  },
  {
   "cell_type": "code",
   "execution_count": 25,
   "metadata": {
    "scrolled": true
   },
   "outputs": [
    {
     "data": {
      "text/plain": [
       "['4,999',\n",
       " '16,999',\n",
       " '22,999',\n",
       " '1,066',\n",
       " '7,999',\n",
       " '9,999',\n",
       " '5,645',\n",
       " '19,999',\n",
       " '7,499',\n",
       " '43,999',\n",
       " '16,999',\n",
       " '11,499',\n",
       " '6,499',\n",
       " '5,499',\n",
       " '16,499',\n",
       " 14499,\n",
       " 14499]"
      ]
     },
     "execution_count": 25,
     "metadata": {},
     "output_type": "execute_result"
    }
   ],
   "source": [
    "prod_price.append(14499)\n",
    "prod_price\n"
   ]
  },
  {
   "cell_type": "code",
   "execution_count": 27,
   "metadata": {},
   "outputs": [
    {
     "data": {
      "text/plain": [
       "14499"
      ]
     },
     "execution_count": 27,
     "metadata": {},
     "output_type": "execute_result"
    }
   ],
   "source": [
    "prod_price.pop()"
   ]
  },
  {
   "cell_type": "code",
   "execution_count": 28,
   "metadata": {},
   "outputs": [
    {
     "data": {
      "text/plain": [
       "16"
      ]
     },
     "execution_count": 28,
     "metadata": {},
     "output_type": "execute_result"
    }
   ],
   "source": [
    "len(prod_price)"
   ]
  },
  {
   "cell_type": "code",
   "execution_count": 5,
   "metadata": {},
   "outputs": [
    {
     "data": {
      "text/plain": [
       "[]"
      ]
     },
     "execution_count": 5,
     "metadata": {},
     "output_type": "execute_result"
    }
   ],
   "source": [
    "rating"
   ]
  },
  {
   "cell_type": "code",
   "execution_count": 6,
   "metadata": {},
   "outputs": [
    {
     "name": "stdout",
     "output_type": "stream",
     "text": [
      "agent switched to :- {'user-agent': 'Chrome/83.0.4103.97'}\n",
      "it' worked\n",
      "<class 'requests.models.Response'>\n",
      "<Response [200]>\n",
      "<class 'str'>\n"
     ]
    }
   ],
   "source": [
    "url = \"https://www.amazon.in/s?k=mobile&page=4&crid=2H0873SIDZUIO&qid=1644916775&sprefix=mobile%2Caps%2C428&ref=sr_pg_4\"\n",
    "headers =[\n",
    "    {\n",
    "'user-agent': 'Chrome/83.0.4103.97'\n",
    "}\n",
    "    ,\n",
    "{\n",
    "'user-agent': 'Safari/537.36'\n",
    "}\n",
    "    ,\n",
    "{\n",
    "'user-agent': 'Mozilla/5.0'\n",
    "}\n",
    "]\n",
    "total_ratings=[]\n",
    "item_rating=[]\n",
    "def requesting1():\n",
    "    \n",
    " \n",
    "    x = np.random.randint(0,3)\n",
    "    req = requests.get(url,headers=headers[x])\n",
    "    print(\"agent switched to :-\", headers[x])\n",
    "    mb = req.text[21:24]\n",
    "    \n",
    "    \n",
    "   \n",
    "\n",
    "    if mb == '503':\n",
    "        print('chainging agent proxy ---------- ')\n",
    "        requesting()\n",
    "        \n",
    "        \n",
    "\n",
    "\n",
    "    else:\n",
    "        print(\"it' worked\")\n",
    "\n",
    "        soup = BeautifulSoup(req.text,'html.parser')\n",
    "        print(type(req))\n",
    "        print(req)\n",
    "        \n",
    "        print(type(mb))\n",
    "    total_rating=soup.find_all('span',class_=\"a-size-base s-underline-text\")\n",
    "    for i in total_rating:\n",
    "        total_ratings.append(i.contents[0])\n",
    "    itemrating=soup.find_all('span',class_=\"a-icon-alt\")\n",
    "    for i in itemrating:\n",
    "        item_rating.append(i.contents[0])\n",
    "\n",
    "requesting1()"
   ]
  },
  {
   "cell_type": "code",
   "execution_count": 7,
   "metadata": {},
   "outputs": [
    {
     "data": {
      "text/plain": [
       "20"
      ]
     },
     "execution_count": 7,
     "metadata": {},
     "output_type": "execute_result"
    }
   ],
   "source": [
    "len(item_rating)"
   ]
  },
  {
   "cell_type": "code",
   "execution_count": 8,
   "metadata": {
    "scrolled": true
   },
   "outputs": [
    {
     "data": {
      "text/plain": [
       "['5.0 out of 5 stars',\n",
       " '4.2 out of 5 stars',\n",
       " '4.2 out of 5 stars',\n",
       " '3.9 out of 5 stars',\n",
       " '3.8 out of 5 stars',\n",
       " '4.2 out of 5 stars',\n",
       " '4.3 out of 5 stars',\n",
       " '3.5 out of 5 stars',\n",
       " '3.9 out of 5 stars',\n",
       " '3.9 out of 5 stars',\n",
       " '4.4 out of 5 stars',\n",
       " '4.2 out of 5 stars',\n",
       " '4.2 out of 5 stars',\n",
       " '5.0 out of 5 stars',\n",
       " '2.6 out of 5 stars',\n",
       " '4.1 out of 5 stars',\n",
       " '4 Stars & Up',\n",
       " '3 Stars & Up',\n",
       " '2 Stars & Up',\n",
       " '1 Star & Up']"
      ]
     },
     "execution_count": 8,
     "metadata": {},
     "output_type": "execute_result"
    }
   ],
   "source": [
    "item_rating"
   ]
  },
  {
   "cell_type": "code",
   "execution_count": 13,
   "metadata": {},
   "outputs": [],
   "source": [
    "del item_rating[18:20]\n",
    "   "
   ]
  },
  {
   "cell_type": "code",
   "execution_count": 18,
   "metadata": {},
   "outputs": [],
   "source": [
    "item_rating.remove(\"4 Stars & Up\")"
   ]
  },
  {
   "cell_type": "code",
   "execution_count": 19,
   "metadata": {
    "scrolled": true
   },
   "outputs": [
    {
     "data": {
      "text/plain": [
       "['5.0 out of 5 stars',\n",
       " '4.2 out of 5 stars',\n",
       " '4.2 out of 5 stars',\n",
       " '3.9 out of 5 stars',\n",
       " '3.8 out of 5 stars',\n",
       " '4.2 out of 5 stars',\n",
       " '4.3 out of 5 stars',\n",
       " '3.5 out of 5 stars',\n",
       " '3.9 out of 5 stars',\n",
       " '3.9 out of 5 stars',\n",
       " '4.4 out of 5 stars',\n",
       " '4.2 out of 5 stars',\n",
       " '4.2 out of 5 stars',\n",
       " '5.0 out of 5 stars',\n",
       " '2.6 out of 5 stars',\n",
       " '4.1 out of 5 stars']"
      ]
     },
     "execution_count": 19,
     "metadata": {},
     "output_type": "execute_result"
    }
   ],
   "source": [
    "item_rating"
   ]
  },
  {
   "cell_type": "code",
   "execution_count": 20,
   "metadata": {},
   "outputs": [
    {
     "data": {
      "text/plain": [
       "16"
      ]
     },
     "execution_count": 20,
     "metadata": {},
     "output_type": "execute_result"
    }
   ],
   "source": [
    "len(item_rating)"
   ]
  },
  {
   "cell_type": "code",
   "execution_count": 17,
   "metadata": {
    "scrolled": true
   },
   "outputs": [
    {
     "data": {
      "text/plain": [
       "['1',\n",
       " '31,881',\n",
       " '22,903',\n",
       " '1,379',\n",
       " '363',\n",
       " '147,472',\n",
       " '569',\n",
       " '18',\n",
       " '1,003',\n",
       " '70',\n",
       " '38,188',\n",
       " '31,881',\n",
       " '145,231',\n",
       " '2',\n",
       " '5',\n",
       " '29,079']"
      ]
     },
     "execution_count": 17,
     "metadata": {},
     "output_type": "execute_result"
    }
   ],
   "source": [
    "total_ratings"
   ]
  },
  {
   "cell_type": "code",
   "execution_count": 30,
   "metadata": {},
   "outputs": [],
   "source": [
    "df=pd.DataFrame({\"Item_Name\":prod_name,\"Price\":prod_price,\n",
    "                 \"Rating\":item_rating,\"Total_Rating\": total_ratings})"
   ]
  },
  {
   "cell_type": "code",
   "execution_count": 31,
   "metadata": {
    "scrolled": true
   },
   "outputs": [
    {
     "data": {
      "text/html": [
       "<div>\n",
       "<style scoped>\n",
       "    .dataframe tbody tr th:only-of-type {\n",
       "        vertical-align: middle;\n",
       "    }\n",
       "\n",
       "    .dataframe tbody tr th {\n",
       "        vertical-align: top;\n",
       "    }\n",
       "\n",
       "    .dataframe thead th {\n",
       "        text-align: right;\n",
       "    }\n",
       "</style>\n",
       "<table border=\"1\" class=\"dataframe\">\n",
       "  <thead>\n",
       "    <tr style=\"text-align: right;\">\n",
       "      <th></th>\n",
       "      <th>Item_Name</th>\n",
       "      <th>Price</th>\n",
       "      <th>Rating</th>\n",
       "      <th>Total_Rating</th>\n",
       "    </tr>\n",
       "  </thead>\n",
       "  <tbody>\n",
       "    <tr>\n",
       "      <th>0</th>\n",
       "      <td>I KALL Z8 4G Smartphone (3GB, 16GB) (Grey)</td>\n",
       "      <td>4,999</td>\n",
       "      <td>5.0 out of 5 stars</td>\n",
       "      <td>1</td>\n",
       "    </tr>\n",
       "    <tr>\n",
       "      <th>1</th>\n",
       "      <td>Samsung Galaxy M32 (Light Blue, 6GB RAM, 128GB...</td>\n",
       "      <td>16,999</td>\n",
       "      <td>4.2 out of 5 stars</td>\n",
       "      <td>31,881</td>\n",
       "    </tr>\n",
       "    <tr>\n",
       "      <th>2</th>\n",
       "      <td>Samsung Galaxy M32 5G (Slate Black, 8GB RAM, 1...</td>\n",
       "      <td>22,999</td>\n",
       "      <td>4.2 out of 5 stars</td>\n",
       "      <td>22,903</td>\n",
       "    </tr>\n",
       "    <tr>\n",
       "      <th>3</th>\n",
       "      <td>Lava A1 2021(Blue Silver)</td>\n",
       "      <td>1,066</td>\n",
       "      <td>3.9 out of 5 stars</td>\n",
       "      <td>1,379</td>\n",
       "    </tr>\n",
       "    <tr>\n",
       "      <th>4</th>\n",
       "      <td>Redmi 9A Sport (Carbon Black, 3GB RAM, 32GB St...</td>\n",
       "      <td>7,999</td>\n",
       "      <td>3.8 out of 5 stars</td>\n",
       "      <td>363</td>\n",
       "    </tr>\n",
       "    <tr>\n",
       "      <th>5</th>\n",
       "      <td>Tecno Spark 8 Pro (Turquoise Cyan, 7GB Expanda...</td>\n",
       "      <td>9,999</td>\n",
       "      <td>4.2 out of 5 stars</td>\n",
       "      <td>147,472</td>\n",
       "    </tr>\n",
       "    <tr>\n",
       "      <th>6</th>\n",
       "      <td>Jio Phone Next 32 GB, 2 GB RAM, Blue Smartphone</td>\n",
       "      <td>5,645</td>\n",
       "      <td>4.3 out of 5 stars</td>\n",
       "      <td>569</td>\n",
       "    </tr>\n",
       "    <tr>\n",
       "      <th>7</th>\n",
       "      <td>Samsung Galaxy A22 5G (Mint, 6GB RAM, 128GB St...</td>\n",
       "      <td>19,999</td>\n",
       "      <td>3.5 out of 5 stars</td>\n",
       "      <td>18</td>\n",
       "    </tr>\n",
       "    <tr>\n",
       "      <th>8</th>\n",
       "      <td>Tecno Spark Go 2022 (Turquoise Cyan, 2/32GB) |...</td>\n",
       "      <td>7,499</td>\n",
       "      <td>3.9 out of 5 stars</td>\n",
       "      <td>1,003</td>\n",
       "    </tr>\n",
       "    <tr>\n",
       "      <th>9</th>\n",
       "      <td>OnePlus 9R 5G (Carbon Black, 12GB RAM, 256 GB ...</td>\n",
       "      <td>43,999</td>\n",
       "      <td>3.9 out of 5 stars</td>\n",
       "      <td>70</td>\n",
       "    </tr>\n",
       "    <tr>\n",
       "      <th>10</th>\n",
       "      <td>Samsung Galaxy M32 (Black, 6GB RAM, 128GB Stor...</td>\n",
       "      <td>16,999</td>\n",
       "      <td>4.4 out of 5 stars</td>\n",
       "      <td>38,188</td>\n",
       "    </tr>\n",
       "    <tr>\n",
       "      <th>11</th>\n",
       "      <td>Redmi 9 Activ (Carbon Black, 6GB RAM, 128GB St...</td>\n",
       "      <td>11,499</td>\n",
       "      <td>4.2 out of 5 stars</td>\n",
       "      <td>31,881</td>\n",
       "    </tr>\n",
       "    <tr>\n",
       "      <th>12</th>\n",
       "      <td>I KALL Z7 Smartphone (4GB, 32GB) (Blue)</td>\n",
       "      <td>6,499</td>\n",
       "      <td>4.2 out of 5 stars</td>\n",
       "      <td>145,231</td>\n",
       "    </tr>\n",
       "    <tr>\n",
       "      <th>13</th>\n",
       "      <td>I KALL Z1 Smartphone (4GB, 32GB) (Blue)</td>\n",
       "      <td>5,499</td>\n",
       "      <td>5.0 out of 5 stars</td>\n",
       "      <td>2</td>\n",
       "    </tr>\n",
       "    <tr>\n",
       "      <th>14</th>\n",
       "      <td>Redmi 10 Prime (Bifrost Blue 4GB RAM 64GB ROM ...</td>\n",
       "      <td>16,499</td>\n",
       "      <td>2.6 out of 5 stars</td>\n",
       "      <td>5</td>\n",
       "    </tr>\n",
       "    <tr>\n",
       "      <th>15</th>\n",
       "      <td>Redmi Note 10T 5G (Metallic Blue, 6GB RAM, 128...</td>\n",
       "      <td>14499</td>\n",
       "      <td>4.1 out of 5 stars</td>\n",
       "      <td>29,079</td>\n",
       "    </tr>\n",
       "  </tbody>\n",
       "</table>\n",
       "</div>"
      ],
      "text/plain": [
       "                                            Item_Name   Price  \\\n",
       "0          I KALL Z8 4G Smartphone (3GB, 16GB) (Grey)   4,999   \n",
       "1   Samsung Galaxy M32 (Light Blue, 6GB RAM, 128GB...  16,999   \n",
       "2   Samsung Galaxy M32 5G (Slate Black, 8GB RAM, 1...  22,999   \n",
       "3                           Lava A1 2021(Blue Silver)   1,066   \n",
       "4   Redmi 9A Sport (Carbon Black, 3GB RAM, 32GB St...   7,999   \n",
       "5   Tecno Spark 8 Pro (Turquoise Cyan, 7GB Expanda...   9,999   \n",
       "6     Jio Phone Next 32 GB, 2 GB RAM, Blue Smartphone   5,645   \n",
       "7   Samsung Galaxy A22 5G (Mint, 6GB RAM, 128GB St...  19,999   \n",
       "8   Tecno Spark Go 2022 (Turquoise Cyan, 2/32GB) |...   7,499   \n",
       "9   OnePlus 9R 5G (Carbon Black, 12GB RAM, 256 GB ...  43,999   \n",
       "10  Samsung Galaxy M32 (Black, 6GB RAM, 128GB Stor...  16,999   \n",
       "11  Redmi 9 Activ (Carbon Black, 6GB RAM, 128GB St...  11,499   \n",
       "12            I KALL Z7 Smartphone (4GB, 32GB) (Blue)   6,499   \n",
       "13            I KALL Z1 Smartphone (4GB, 32GB) (Blue)   5,499   \n",
       "14  Redmi 10 Prime (Bifrost Blue 4GB RAM 64GB ROM ...  16,499   \n",
       "15  Redmi Note 10T 5G (Metallic Blue, 6GB RAM, 128...   14499   \n",
       "\n",
       "                Rating Total_Rating  \n",
       "0   5.0 out of 5 stars            1  \n",
       "1   4.2 out of 5 stars       31,881  \n",
       "2   4.2 out of 5 stars       22,903  \n",
       "3   3.9 out of 5 stars        1,379  \n",
       "4   3.8 out of 5 stars          363  \n",
       "5   4.2 out of 5 stars      147,472  \n",
       "6   4.3 out of 5 stars          569  \n",
       "7   3.5 out of 5 stars           18  \n",
       "8   3.9 out of 5 stars        1,003  \n",
       "9   3.9 out of 5 stars           70  \n",
       "10  4.4 out of 5 stars       38,188  \n",
       "11  4.2 out of 5 stars       31,881  \n",
       "12  4.2 out of 5 stars      145,231  \n",
       "13  5.0 out of 5 stars            2  \n",
       "14  2.6 out of 5 stars            5  \n",
       "15  4.1 out of 5 stars       29,079  "
      ]
     },
     "execution_count": 31,
     "metadata": {},
     "output_type": "execute_result"
    }
   ],
   "source": [
    "df"
   ]
  },
  {
   "cell_type": "code",
   "execution_count": 32,
   "metadata": {},
   "outputs": [],
   "source": [
    "df.to_csv(\"scrap.csv\",index=False)"
   ]
  },
  {
   "cell_type": "code",
   "execution_count": null,
   "metadata": {},
   "outputs": [],
   "source": []
  }
 ],
 "metadata": {
  "kernelspec": {
   "display_name": "Python 3 (ipykernel)",
   "language": "python",
   "name": "python3"
  },
  "language_info": {
   "codemirror_mode": {
    "name": "ipython",
    "version": 3
   },
   "file_extension": ".py",
   "mimetype": "text/x-python",
   "name": "python",
   "nbconvert_exporter": "python",
   "pygments_lexer": "ipython3",
   "version": "3.9.7"
  }
 },
 "nbformat": 4,
 "nbformat_minor": 4
}
