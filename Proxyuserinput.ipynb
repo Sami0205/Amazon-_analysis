{
 "cells": [
  {
   "cell_type": "code",
   "execution_count": 1,
   "id": "e96693f5",
   "metadata": {},
   "outputs": [],
   "source": [
    "import pandas as pd\n",
    "import numpy as np\n",
    "import requests\n",
    "from bs4 import  BeautifulSoup"
   ]
  },
  {
   "cell_type": "code",
   "execution_count": 2,
   "id": "a61df96f",
   "metadata": {},
   "outputs": [
    {
     "name": "stdout",
     "output_type": "stream",
     "text": [
      "enter the urlhttps://www.amazon.in/s?rh=n%3A1389177031&fs=true&ref=lp_1389177031_sar\n"
     ]
    }
   ],
   "source": [
    "link=input(\"enter the url\")\n",
    "url = link\n",
    "headers =[\n",
    "    {\n",
    "'user-agent': 'Chrome/83.0.4103.97'\n",
    "}\n",
    "    ,\n",
    "{\n",
    "'user-agent': 'Safari/537.36'\n",
    "}\n",
    "    ,\n",
    "{\n",
    "'user-agent': 'Mozilla/5.0'\n",
    "}\n",
    "]"
   ]
  },
  {
   "cell_type": "code",
   "execution_count": 3,
   "id": "edb8d18d",
   "metadata": {},
   "outputs": [],
   "source": [
    "prod_name = []\n",
    "prod_price = []\n",
    "total_ratings=[]\n",
    "item_rating=[]"
   ]
  },
  {
   "cell_type": "code",
   "execution_count": 4,
   "id": "ba0861de",
   "metadata": {},
   "outputs": [
    {
     "name": "stdout",
     "output_type": "stream",
     "text": [
      "agent switched to :- {'user-agent': 'Chrome/83.0.4103.97'}\n",
      "it' worked\n",
      "<class 'requests.models.Response'>\n",
      "<Response [200]>\n",
      "<class 'str'>\n"
     ]
    }
   ],
   "source": [
    "def requesting():\n",
    "    \n",
    " \n",
    "    x = np.random.randint(0,3)\n",
    "    req = requests.get(url,headers=headers[x])\n",
    "    print(\"agent switched to :-\", headers[x])\n",
    "    mb = req.text[21:24]\n",
    "    \n",
    "    \n",
    "   \n",
    "\n",
    "    if mb == '503':\n",
    "        print('chainging agent proxy ---------- ')\n",
    "        requesting()\n",
    "        \n",
    "        \n",
    "\n",
    "\n",
    "    else:\n",
    "        print(\"it' worked\")\n",
    "\n",
    "        soup = BeautifulSoup(req.text,'html.parser')\n",
    "        print(type(req))\n",
    "        print(req)\n",
    "        \n",
    "        print(type(mb))\n",
    "\n",
    "\n",
    "\n",
    "        name = soup.find_all('span',class_=\"a-size-base-plus a-color-base a-text-normal\")\n",
    "        for i in name:\n",
    "            prod_name.append(i.contents[0])\n",
    "        price = soup.find_all('span',class_='a-price-whole')\n",
    "        for i in price:\n",
    "            prod_price.append(i.contents[0])\n",
    "        total_rating=soup.find_all('span',class_=\"a-size-base s-underline-text\")\n",
    "        for i in total_rating:\n",
    "            total_ratings.append(i.contents[0])\n",
    "        itemrating=soup.find_all('span',class_=\"a-icon-alt\")\n",
    "        for i in itemrating:\n",
    "            item_rating.append(i.contents[0])   \n",
    "\n",
    "          \n",
    "requesting()"
   ]
  },
  {
   "cell_type": "code",
   "execution_count": 5,
   "id": "a13a21d8",
   "metadata": {
    "scrolled": true
   },
   "outputs": [
    {
     "data": {
      "text/plain": [
       "[]"
      ]
     },
     "execution_count": 5,
     "metadata": {},
     "output_type": "execute_result"
    }
   ],
   "source": [
    "prod_name"
   ]
  },
  {
   "cell_type": "code",
   "execution_count": 31,
   "id": "245e12f0",
   "metadata": {},
   "outputs": [
    {
     "data": {
      "text/plain": [
       "59"
      ]
     },
     "execution_count": 31,
     "metadata": {},
     "output_type": "execute_result"
    }
   ],
   "source": [
    "len(prod_name)"
   ]
  },
  {
   "cell_type": "code",
   "execution_count": 23,
   "id": "3b8d406f",
   "metadata": {},
   "outputs": [],
   "source": [
    "for i in range(4):\n",
    "    prod_name.pop(i)"
   ]
  },
  {
   "cell_type": "code",
   "execution_count": 9,
   "id": "cf3fe4c8",
   "metadata": {
    "scrolled": false
   },
   "outputs": [
    {
     "data": {
      "text/plain": [
       "['YONGCLUB Mouse Pad for Laptop/Computer with Stitched Embroidery Edges and Water Resistance Coating Natural Rubber Non Slippery Rubber Base',\n",
       " 'Netlux Antivirus Total Protection',\n",
       " 'Dubarai 101 Toner Cartridge for Samsung 101/MLT-D101S ML and SCX Series (Black)',\n",
       " 'boAt Airdopes 141 True Wireless Earbuds with 42H Playtime, Beast Mode(Low Latency Upto 80ms) for Gaming, ENx Tech, ASAP Charge, IWP, IPX4 Water Resistance, Smooth Touch Controls(Bold Black)',\n",
       " 'boAt Airdopes 121v2 True Wireless Earbuds with Upto 14 Hours Playback, Lightweight Earbuds, 8MM Drivers, LED Indicators and Multifunction Controls(Active Black)',\n",
       " 'Apple 20W USB-C Power Adapter (for iPhone, iPad & AirPods)',\n",
       " 'Logitech B170 Wireless Mouse, 2.4 GHz with USB Nano Receiver, Optical Tracking, 12-Months Battery Life, Ambidextrous, PC/Mac/Laptop - Black',\n",
       " 'SanDisk Ultra microSD UHS-I Card 64GB, 120MB/s R',\n",
       " 'HP X1000 Wired Mouse (Black/Grey)',\n",
       " 'SanDisk Cruzer Blade 32GB USB Flash Drive',\n",
       " 'Redmi 80 cm (32 inches) HD Ready Smart LED TV | L32M6-RA (Black) (2021 Model) | With Android 11',\n",
       " 'JBL C100SI In Ear Wired Earphones with Mic (Black)',\n",
       " 'FEDUS 15M 49 Feet F/UTP High Speed RJ45 cat6 Ethernet Patch Cable LAN Cable Internet Network Computer Cable Cord High Speed Gigabit Category 6 Wires for Modem Foiled W/Unshielded Twisted Pair (F/UTP)',\n",
       " 'TRI-COM® Pure Copper Category 6 w/Strain Relief/Fluke Tested ul/TIA Certified Pure Copper 10/100/1000 Mbps (10 Gigabit) (Heavy Duty LD Coated PVC Outer Jacket for Outdoor) (90 Meter)',\n",
       " 'AUGEN by VisionsIndia Bluetooth Version (Pop-Up Window) Compatible with iOS 13 and Later, Audio AUX Converter Cable 8pin Lighting to 3.5mm Headphone/Earphone Jack Adapter for iPhone (White)',\n",
       " 'OFIXO Multi-Purpose Laptop Table/Study Table/Bed Table/Foldable and Portable Wooden/Writing Desk (Wooden)',\n",
       " 'Mi 360° Home Security Camera 1080P l Full HD Picture l AI Powered Motion Detection l Infrared Night Vision | 360° Panorama | Talk Back Feature (2-Way Audio)',\n",
       " 'boAt Bassheads 102 in Ear Wired Earphones with Mic(Charcoal Black)',\n",
       " 'Boya BYM1 Omnidirectional Lavalier Condenser Microphone with 20ft Audio Cable (Black)',\n",
       " 'boAt Bassheads 225 in Ear Wired Earphones with Mic(Black)',\n",
       " 'Dell MS116 1000DPI USB Wired Optical Mouse',\n",
       " 'HP 680 Original Ink Advantage Cartridge (Black)',\n",
       " 'Dell Km117 Wireless Keyboard Mouse-',\n",
       " 'SUPER TOY LCD Writing Tablet 8.5Inch E-Note Pad',\n",
       " 'Zebronics ZEB-KM2100 Multimedia USB Keyboard Comes with 114 Keys Including 12 Dedicated Multimedia Keys & with Rupee Key',\n",
       " 'TP-Link Archer AC1200 Archer C6 Wi-Fi Speed Up to 867 Mbps/5 GHz + 300 Mbps/2.4 GHz, 5 Gigabit Ports, 4 External Antennas, MU-MIMO, Dual Band, WiFi Coverage with Access Point Mode, Wireless Router',\n",
       " 'Boult Audio AirBass PowerBuds TWS Earbuds with 120 Hours Total Playtime, Inbuilt Powerbank, Type-C Fast Charging and IPX7 Fully Waterproof (Black)',\n",
       " 'SanDisk Ultra Dual Drive Go Type C Pendrive for Mobile 128GB, 5Y - SDDDC3-128G-I35',\n",
       " 'HP v236w 64GB USB 2.0 Pen Drive',\n",
       " 'TP-Link TL-WA850RE N300 Wireless Range Extender, Broadband/Wi-Fi Extender, Wi-Fi Booster/Hotspot with 1 Ethernet Port, Plug and Play, Built-in Access Point Mode',\n",
       " 'GATTUMAL Brahmi Tablet Supports Mental Function - Bacopa Monnieri - Pack of 2-100 tabs each',\n",
       " 'YONGCLUB Mouse pad for pc Anti Skid Heroes Designer Abstract Eye Mouse pad Printed Mousepad for laptops and Computers Gaming Mousepad',\n",
       " 'GATTUMAL Bhringraj Tablets (Eclipta prostrata) - Pack of 3-100 tabs each']"
      ]
     },
     "execution_count": 9,
     "metadata": {},
     "output_type": "execute_result"
    }
   ],
   "source": [
    "prod_name"
   ]
  },
  {
   "cell_type": "code",
   "execution_count": 10,
   "id": "8de5865c",
   "metadata": {},
   "outputs": [
    {
     "data": {
      "text/plain": [
       "33"
      ]
     },
     "execution_count": 10,
     "metadata": {},
     "output_type": "execute_result"
    }
   ],
   "source": [
    "len(prod_name)"
   ]
  },
  {
   "cell_type": "code",
   "execution_count": 6,
   "id": "ceb3b5d6",
   "metadata": {
    "scrolled": true
   },
   "outputs": [
    {
     "data": {
      "text/plain": [
       "[]"
      ]
     },
     "execution_count": 6,
     "metadata": {},
     "output_type": "execute_result"
    }
   ],
   "source": [
    "prod_price"
   ]
  },
  {
   "cell_type": "code",
   "execution_count": 12,
   "id": "3cacf976",
   "metadata": {},
   "outputs": [],
   "source": [
    "for i in range(3):\n",
    "    prod_name.pop(0)"
   ]
  },
  {
   "cell_type": "code",
   "execution_count": 34,
   "id": "160a85c7",
   "metadata": {},
   "outputs": [
    {
     "data": {
      "text/plain": [
       "66"
      ]
     },
     "execution_count": 34,
     "metadata": {},
     "output_type": "execute_result"
    }
   ],
   "source": [
    "len(prod_price)"
   ]
  },
  {
   "cell_type": "code",
   "execution_count": 14,
   "id": "32751b53",
   "metadata": {},
   "outputs": [
    {
     "data": {
      "text/plain": [
       "['5.0 out of 5 stars',\n",
       " '1.9 out of 5 stars',\n",
       " '3.9 out of 5 stars',\n",
       " '3.9 out of 5 stars',\n",
       " '4.6 out of 5 stars',\n",
       " '4.4 out of 5 stars',\n",
       " '4.4 out of 5 stars',\n",
       " '4.3 out of 5 stars',\n",
       " '4.3 out of 5 stars',\n",
       " '4.3 out of 5 stars',\n",
       " '4.1 out of 5 stars',\n",
       " '4.4 out of 5 stars',\n",
       " '4.8 out of 5 stars',\n",
       " '3.0 out of 5 stars',\n",
       " '3.9 out of 5 stars',\n",
       " '4.3 out of 5 stars',\n",
       " '4.2 out of 5 stars',\n",
       " '4.0 out of 5 stars',\n",
       " '4.1 out of 5 stars',\n",
       " '4.5 out of 5 stars',\n",
       " '4.2 out of 5 stars',\n",
       " '4.3 out of 5 stars',\n",
       " '3.7 out of 5 stars',\n",
       " '3.7 out of 5 stars',\n",
       " '4.4 out of 5 stars',\n",
       " '3.8 out of 5 stars',\n",
       " '4.3 out of 5 stars',\n",
       " '4.2 out of 5 stars',\n",
       " '4.2 out of 5 stars',\n",
       " '4 Stars & Up',\n",
       " '3 Stars & Up',\n",
       " '2 Stars & Up',\n",
       " '1 Star & Up']"
      ]
     },
     "execution_count": 14,
     "metadata": {},
     "output_type": "execute_result"
    }
   ],
   "source": [
    "item_rating"
   ]
  },
  {
   "cell_type": "code",
   "execution_count": 15,
   "id": "54b9c6f3",
   "metadata": {},
   "outputs": [],
   "source": [
    "rem=['4 Stars & Up','3 Stars & Up','2 Stars & Up','1 Star & Up']"
   ]
  },
  {
   "cell_type": "code",
   "execution_count": 35,
   "id": "05ac255f",
   "metadata": {},
   "outputs": [
    {
     "name": "stdout",
     "output_type": "stream",
     "text": [
      "4 Stars & Up\n",
      "3 Stars & Up\n",
      "2 Stars & Up\n",
      "1 Star & Up\n"
     ]
    }
   ],
   "source": [
    "for i in rem:\n",
    "    print(i)"
   ]
  },
  {
   "cell_type": "code",
   "execution_count": 17,
   "id": "43a09a78",
   "metadata": {},
   "outputs": [],
   "source": [
    "for i in rem:\n",
    "    item_rating.remove(i)"
   ]
  },
  {
   "cell_type": "code",
   "execution_count": 36,
   "id": "f3897479",
   "metadata": {},
   "outputs": [
    {
     "data": {
      "text/plain": [
       "['5.0 out of 5 stars',\n",
       " '1.9 out of 5 stars',\n",
       " '3.9 out of 5 stars',\n",
       " '3.9 out of 5 stars',\n",
       " '4.6 out of 5 stars',\n",
       " '4.4 out of 5 stars',\n",
       " '4.4 out of 5 stars',\n",
       " '4.3 out of 5 stars',\n",
       " '4.3 out of 5 stars',\n",
       " '4.3 out of 5 stars',\n",
       " '4.1 out of 5 stars',\n",
       " '4.4 out of 5 stars',\n",
       " '4.8 out of 5 stars',\n",
       " '3.0 out of 5 stars',\n",
       " '3.9 out of 5 stars',\n",
       " '4.3 out of 5 stars',\n",
       " '4.2 out of 5 stars',\n",
       " '4.0 out of 5 stars',\n",
       " '4.1 out of 5 stars',\n",
       " '4.5 out of 5 stars',\n",
       " '4.2 out of 5 stars',\n",
       " '4.3 out of 5 stars',\n",
       " '3.7 out of 5 stars',\n",
       " '3.7 out of 5 stars',\n",
       " '4.4 out of 5 stars',\n",
       " '3.8 out of 5 stars',\n",
       " '4.3 out of 5 stars',\n",
       " '4.2 out of 5 stars',\n",
       " '4.2 out of 5 stars',\n",
       " '5.0 out of 5 stars',\n",
       " '5.0 out of 5 stars',\n",
       " '3.9 out of 5 stars',\n",
       " '3.9 out of 5 stars',\n",
       " '4.6 out of 5 stars',\n",
       " '4.4 out of 5 stars',\n",
       " '4.4 out of 5 stars',\n",
       " '4.3 out of 5 stars',\n",
       " '4.3 out of 5 stars',\n",
       " '4.3 out of 5 stars',\n",
       " '4.1 out of 5 stars',\n",
       " '4.4 out of 5 stars',\n",
       " '3.0 out of 5 stars',\n",
       " '3.9 out of 5 stars',\n",
       " '4.3 out of 5 stars',\n",
       " '4.2 out of 5 stars',\n",
       " '4.0 out of 5 stars',\n",
       " '4.1 out of 5 stars',\n",
       " '4.5 out of 5 stars',\n",
       " '4.2 out of 5 stars',\n",
       " '4.3 out of 5 stars',\n",
       " '3.7 out of 5 stars',\n",
       " '3.7 out of 5 stars',\n",
       " '4.4 out of 5 stars',\n",
       " '3.8 out of 5 stars',\n",
       " '4.3 out of 5 stars',\n",
       " '4.2 out of 5 stars',\n",
       " '4.2 out of 5 stars',\n",
       " '1.9 out of 5 stars',\n",
       " '4 Stars & Up',\n",
       " '3 Stars & Up',\n",
       " '2 Stars & Up',\n",
       " '1 Star & Up']"
      ]
     },
     "execution_count": 36,
     "metadata": {},
     "output_type": "execute_result"
    }
   ],
   "source": [
    "item_rating"
   ]
  },
  {
   "cell_type": "code",
   "execution_count": 37,
   "id": "40332c24",
   "metadata": {},
   "outputs": [
    {
     "data": {
      "text/plain": [
       "62"
      ]
     },
     "execution_count": 37,
     "metadata": {},
     "output_type": "execute_result"
    }
   ],
   "source": [
    "len(item_rating)"
   ]
  },
  {
   "cell_type": "code",
   "execution_count": 20,
   "id": "e2b427a7",
   "metadata": {},
   "outputs": [
    {
     "data": {
      "text/plain": [
       "['2',\n",
       " '5',\n",
       " '40,941',\n",
       " '105,136',\n",
       " '33,787',\n",
       " '46,155',\n",
       " '34,708',\n",
       " '42,922',\n",
       " '200,860',\n",
       " '20,243',\n",
       " '167,268',\n",
       " '4,312',\n",
       " '6',\n",
       " '142',\n",
       " '17,826',\n",
       " '31,938',\n",
       " '60,437',\n",
       " '50,617',\n",
       " '228,059',\n",
       " '23,251',\n",
       " '22,899',\n",
       " '25,566',\n",
       " '14,169',\n",
       " '26,029',\n",
       " '41,065',\n",
       " '13,038',\n",
       " '34,929',\n",
       " '39,206',\n",
       " '116,879']"
      ]
     },
     "execution_count": 20,
     "metadata": {},
     "output_type": "execute_result"
    }
   ],
   "source": [
    "total_ratings"
   ]
  },
  {
   "cell_type": "code",
   "execution_count": 21,
   "id": "3fead7c7",
   "metadata": {},
   "outputs": [
    {
     "data": {
      "text/plain": [
       "29"
      ]
     },
     "execution_count": 21,
     "metadata": {},
     "output_type": "execute_result"
    }
   ],
   "source": [
    "len(total_ratings)"
   ]
  },
  {
   "cell_type": "code",
   "execution_count": null,
   "id": "d452e50a",
   "metadata": {},
   "outputs": [],
   "source": [
    "df"
   ]
  },
  {
   "cell_type": "code",
   "execution_count": null,
   "id": "d1239b31",
   "metadata": {},
   "outputs": [],
   "source": []
  }
 ],
 "metadata": {
  "kernelspec": {
   "display_name": "Python 3 (ipykernel)",
   "language": "python",
   "name": "python3"
  },
  "language_info": {
   "codemirror_mode": {
    "name": "ipython",
    "version": 3
   },
   "file_extension": ".py",
   "mimetype": "text/x-python",
   "name": "python",
   "nbconvert_exporter": "python",
   "pygments_lexer": "ipython3",
   "version": "3.9.7"
  }
 },
 "nbformat": 4,
 "nbformat_minor": 5
}
